{
 "cells": [
  {
   "cell_type": "code",
   "execution_count": null,
   "id": "3dd69ffc-f120-49b1-9ea1-8b24e1b85d0b",
   "metadata": {},
   "outputs": [],
   "source": [
    "# Simple calculator with loop\n",
    "\n",
    "def calculator():\n",
    "    while True:\n",
    "        print(\"Hello :)\\n\")\n",
    "        print(\"This is a simple calculator to calculate two numbers\\n\")\n",
    "        x = int(input(\"Please enter the first number\\n\"))\n",
    "        y = int(input(\"Please enter the second number\\n\"))\n",
    "        opr = input(\"\"\"Please choose the operator: \"add\", \"sub\", \"mult\", \"div\"\\n\"\"\")\n",
    "        \n",
    "        if opr.lower() == \"add\":\n",
    "            result = x + y\n",
    "\n",
    "        elif opr.lower() == \"sub\":\n",
    "            result = x - y\n",
    "\n",
    "        elif opr.lower() == \"mult\":\n",
    "            result = x * y\n",
    "\n",
    "        elif opr.lower() == \"div\":\n",
    "            if y == 0:\n",
    "                result = \"Error: Division by zero is not allowed.\"\n",
    "            else:\n",
    "                result = x / y\n",
    "\n",
    "        else:\n",
    "            result = \"Invalid operator entered.\"\n",
    "        \n",
    "        print(f\"Result: {result}\")\n",
    "        \n",
    "        again = input(\"Do you want to calculate again? (yes to continue, stop to exit)\\n\")\n",
    "        if again.lower() == \"stop\":\n",
    "            print(\"Thank you for using the calculator!\")\n",
    "            break  \n",
    "        \n",
    "calculator()\n"
   ]
  }
 ],
 "metadata": {
  "kernelspec": {
   "display_name": "Python 3 (ipykernel)",
   "language": "python",
   "name": "python3"
  },
  "language_info": {
   "codemirror_mode": {
    "name": "ipython",
    "version": 3
   },
   "file_extension": ".py",
   "mimetype": "text/x-python",
   "name": "python",
   "nbconvert_exporter": "python",
   "pygments_lexer": "ipython3",
   "version": "3.12.7"
  }
 },
 "nbformat": 4,
 "nbformat_minor": 5
}
